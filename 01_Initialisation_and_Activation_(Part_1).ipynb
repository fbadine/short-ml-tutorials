{
  "nbformat": 4,
  "nbformat_minor": 0,
  "metadata": {
    "colab": {
      "name": "01 - Initialisation and Activation (Part 1).ipynb",
      "provenance": [],
      "collapsed_sections": [],
      "toc_visible": true,
      "authorship_tag": "ABX9TyO41ugUKB0U7YAoyiN9Wy6A",
      "include_colab_link": true
    },
    "kernelspec": {
      "name": "python3",
      "display_name": "Python 3"
    },
    "language_info": {
      "name": "python"
    },
    "accelerator": "GPU",
    "widgets": {
      "application/vnd.jupyter.widget-state+json": {
        "86d06be2594343ef99606ed548099685": {
          "model_module": "@jupyter-widgets/controls",
          "model_name": "HBoxModel",
          "model_module_version": "1.5.0",
          "state": {
            "_view_name": "HBoxView",
            "_dom_classes": [],
            "_model_name": "HBoxModel",
            "_view_module": "@jupyter-widgets/controls",
            "_model_module_version": "1.5.0",
            "_view_count": null,
            "_view_module_version": "1.5.0",
            "box_style": "",
            "layout": "IPY_MODEL_df94d24d24594590936b2e508742219e",
            "_model_module": "@jupyter-widgets/controls",
            "children": [
              "IPY_MODEL_589385c3970c4771b0b78cef7ea3f317",
              "IPY_MODEL_8aa8e53da5954ffca2b72c188d3aeb2f",
              "IPY_MODEL_0a37ed5b331a4c7287659fd79d261093"
            ]
          }
        },
        "df94d24d24594590936b2e508742219e": {
          "model_module": "@jupyter-widgets/base",
          "model_name": "LayoutModel",
          "model_module_version": "1.2.0",
          "state": {
            "_view_name": "LayoutView",
            "grid_template_rows": null,
            "right": null,
            "justify_content": null,
            "_view_module": "@jupyter-widgets/base",
            "overflow": null,
            "_model_module_version": "1.2.0",
            "_view_count": null,
            "flex_flow": null,
            "width": null,
            "min_width": null,
            "border": null,
            "align_items": null,
            "bottom": null,
            "_model_module": "@jupyter-widgets/base",
            "top": null,
            "grid_column": null,
            "overflow_y": null,
            "overflow_x": null,
            "grid_auto_flow": null,
            "grid_area": null,
            "grid_template_columns": null,
            "flex": null,
            "_model_name": "LayoutModel",
            "justify_items": null,
            "grid_row": null,
            "max_height": null,
            "align_content": null,
            "visibility": null,
            "align_self": null,
            "height": null,
            "min_height": null,
            "padding": null,
            "grid_auto_rows": null,
            "grid_gap": null,
            "max_width": null,
            "order": null,
            "_view_module_version": "1.2.0",
            "grid_template_areas": null,
            "object_position": null,
            "object_fit": null,
            "grid_auto_columns": null,
            "margin": null,
            "display": null,
            "left": null
          }
        },
        "589385c3970c4771b0b78cef7ea3f317": {
          "model_module": "@jupyter-widgets/controls",
          "model_name": "HTMLModel",
          "model_module_version": "1.5.0",
          "state": {
            "_view_name": "HTMLView",
            "style": "IPY_MODEL_993db2b6d23a41abab414c2883cf2f6e",
            "_dom_classes": [],
            "description": "",
            "_model_name": "HTMLModel",
            "placeholder": "​",
            "_view_module": "@jupyter-widgets/controls",
            "_model_module_version": "1.5.0",
            "value": "Dl Completed...: 100%",
            "_view_count": null,
            "_view_module_version": "1.5.0",
            "description_tooltip": null,
            "_model_module": "@jupyter-widgets/controls",
            "layout": "IPY_MODEL_d633e34bc7944c09a8a1ed2960f51fa5"
          }
        },
        "8aa8e53da5954ffca2b72c188d3aeb2f": {
          "model_module": "@jupyter-widgets/controls",
          "model_name": "FloatProgressModel",
          "model_module_version": "1.5.0",
          "state": {
            "_view_name": "ProgressView",
            "style": "IPY_MODEL_e05b6a6fcfb040a0a137ddf016514b28",
            "_dom_classes": [],
            "description": "",
            "_model_name": "FloatProgressModel",
            "bar_style": "success",
            "max": 4,
            "_view_module": "@jupyter-widgets/controls",
            "_model_module_version": "1.5.0",
            "value": 4,
            "_view_count": null,
            "_view_module_version": "1.5.0",
            "orientation": "horizontal",
            "min": 0,
            "description_tooltip": null,
            "_model_module": "@jupyter-widgets/controls",
            "layout": "IPY_MODEL_7578cc4c6d2042bebd9aff480540831a"
          }
        },
        "0a37ed5b331a4c7287659fd79d261093": {
          "model_module": "@jupyter-widgets/controls",
          "model_name": "HTMLModel",
          "model_module_version": "1.5.0",
          "state": {
            "_view_name": "HTMLView",
            "style": "IPY_MODEL_f8905e9181f441bd8db2f45c2cc389b7",
            "_dom_classes": [],
            "description": "",
            "_model_name": "HTMLModel",
            "placeholder": "​",
            "_view_module": "@jupyter-widgets/controls",
            "_model_module_version": "1.5.0",
            "value": " 4/4 [00:00&lt;00:00, 12.60 file/s]",
            "_view_count": null,
            "_view_module_version": "1.5.0",
            "description_tooltip": null,
            "_model_module": "@jupyter-widgets/controls",
            "layout": "IPY_MODEL_3f3b2d978a884a71bc06eacaa3eaeac4"
          }
        },
        "993db2b6d23a41abab414c2883cf2f6e": {
          "model_module": "@jupyter-widgets/controls",
          "model_name": "DescriptionStyleModel",
          "model_module_version": "1.5.0",
          "state": {
            "_view_name": "StyleView",
            "_model_name": "DescriptionStyleModel",
            "description_width": "",
            "_view_module": "@jupyter-widgets/base",
            "_model_module_version": "1.5.0",
            "_view_count": null,
            "_view_module_version": "1.2.0",
            "_model_module": "@jupyter-widgets/controls"
          }
        },
        "d633e34bc7944c09a8a1ed2960f51fa5": {
          "model_module": "@jupyter-widgets/base",
          "model_name": "LayoutModel",
          "model_module_version": "1.2.0",
          "state": {
            "_view_name": "LayoutView",
            "grid_template_rows": null,
            "right": null,
            "justify_content": null,
            "_view_module": "@jupyter-widgets/base",
            "overflow": null,
            "_model_module_version": "1.2.0",
            "_view_count": null,
            "flex_flow": null,
            "width": null,
            "min_width": null,
            "border": null,
            "align_items": null,
            "bottom": null,
            "_model_module": "@jupyter-widgets/base",
            "top": null,
            "grid_column": null,
            "overflow_y": null,
            "overflow_x": null,
            "grid_auto_flow": null,
            "grid_area": null,
            "grid_template_columns": null,
            "flex": null,
            "_model_name": "LayoutModel",
            "justify_items": null,
            "grid_row": null,
            "max_height": null,
            "align_content": null,
            "visibility": null,
            "align_self": null,
            "height": null,
            "min_height": null,
            "padding": null,
            "grid_auto_rows": null,
            "grid_gap": null,
            "max_width": null,
            "order": null,
            "_view_module_version": "1.2.0",
            "grid_template_areas": null,
            "object_position": null,
            "object_fit": null,
            "grid_auto_columns": null,
            "margin": null,
            "display": null,
            "left": null
          }
        },
        "e05b6a6fcfb040a0a137ddf016514b28": {
          "model_module": "@jupyter-widgets/controls",
          "model_name": "ProgressStyleModel",
          "model_module_version": "1.5.0",
          "state": {
            "_view_name": "StyleView",
            "_model_name": "ProgressStyleModel",
            "description_width": "",
            "_view_module": "@jupyter-widgets/base",
            "_model_module_version": "1.5.0",
            "_view_count": null,
            "_view_module_version": "1.2.0",
            "bar_color": null,
            "_model_module": "@jupyter-widgets/controls"
          }
        },
        "7578cc4c6d2042bebd9aff480540831a": {
          "model_module": "@jupyter-widgets/base",
          "model_name": "LayoutModel",
          "model_module_version": "1.2.0",
          "state": {
            "_view_name": "LayoutView",
            "grid_template_rows": null,
            "right": null,
            "justify_content": null,
            "_view_module": "@jupyter-widgets/base",
            "overflow": null,
            "_model_module_version": "1.2.0",
            "_view_count": null,
            "flex_flow": null,
            "width": null,
            "min_width": null,
            "border": null,
            "align_items": null,
            "bottom": null,
            "_model_module": "@jupyter-widgets/base",
            "top": null,
            "grid_column": null,
            "overflow_y": null,
            "overflow_x": null,
            "grid_auto_flow": null,
            "grid_area": null,
            "grid_template_columns": null,
            "flex": null,
            "_model_name": "LayoutModel",
            "justify_items": null,
            "grid_row": null,
            "max_height": null,
            "align_content": null,
            "visibility": null,
            "align_self": null,
            "height": null,
            "min_height": null,
            "padding": null,
            "grid_auto_rows": null,
            "grid_gap": null,
            "max_width": null,
            "order": null,
            "_view_module_version": "1.2.0",
            "grid_template_areas": null,
            "object_position": null,
            "object_fit": null,
            "grid_auto_columns": null,
            "margin": null,
            "display": null,
            "left": null
          }
        },
        "f8905e9181f441bd8db2f45c2cc389b7": {
          "model_module": "@jupyter-widgets/controls",
          "model_name": "DescriptionStyleModel",
          "model_module_version": "1.5.0",
          "state": {
            "_view_name": "StyleView",
            "_model_name": "DescriptionStyleModel",
            "description_width": "",
            "_view_module": "@jupyter-widgets/base",
            "_model_module_version": "1.5.0",
            "_view_count": null,
            "_view_module_version": "1.2.0",
            "_model_module": "@jupyter-widgets/controls"
          }
        },
        "3f3b2d978a884a71bc06eacaa3eaeac4": {
          "model_module": "@jupyter-widgets/base",
          "model_name": "LayoutModel",
          "model_module_version": "1.2.0",
          "state": {
            "_view_name": "LayoutView",
            "grid_template_rows": null,
            "right": null,
            "justify_content": null,
            "_view_module": "@jupyter-widgets/base",
            "overflow": null,
            "_model_module_version": "1.2.0",
            "_view_count": null,
            "flex_flow": null,
            "width": null,
            "min_width": null,
            "border": null,
            "align_items": null,
            "bottom": null,
            "_model_module": "@jupyter-widgets/base",
            "top": null,
            "grid_column": null,
            "overflow_y": null,
            "overflow_x": null,
            "grid_auto_flow": null,
            "grid_area": null,
            "grid_template_columns": null,
            "flex": null,
            "_model_name": "LayoutModel",
            "justify_items": null,
            "grid_row": null,
            "max_height": null,
            "align_content": null,
            "visibility": null,
            "align_self": null,
            "height": null,
            "min_height": null,
            "padding": null,
            "grid_auto_rows": null,
            "grid_gap": null,
            "max_width": null,
            "order": null,
            "_view_module_version": "1.2.0",
            "grid_template_areas": null,
            "object_position": null,
            "object_fit": null,
            "grid_auto_columns": null,
            "margin": null,
            "display": null,
            "left": null
          }
        }
      }
    }
  },
  "cells": [
    {
      "cell_type": "markdown",
      "metadata": {
        "id": "view-in-github",
        "colab_type": "text"
      },
      "source": [
        "<a href=\"https://colab.research.google.com/github/fbadine/short-ml-tutorials/blob/main/01_Initialisation_and_Activation_(Part_1).ipynb\" target=\"_parent\"><img src=\"https://colab.research.google.com/assets/colab-badge.svg\" alt=\"Open In Colab\"/></a>"
      ]
    },
    {
      "cell_type": "markdown",
      "source": [
        "# Initialisation and Activation (Part 1)\n",
        "\n",
        "**Author:** [Fadi Badine](https://twitter.com/fadibadine)<br>\n",
        "**Date created:** 30/12/2021<br>\n",
        "**Last modified:** 04/01/2022<br>\n",
        "**Description:** This is the first of a series of small notebooks that aim to explain some of the basic neural networks concepts and best practises.\n",
        "\n",
        "In this notebook, we will simply look at kernel initialisation, activation functions and how this can affect training convergence and gradients' vanishing.\n"
      ],
      "metadata": {
        "id": "roWzgggjU8RI"
      }
    },
    {
      "cell_type": "markdown",
      "metadata": {
        "id": "XD2e41HHkUUe"
      },
      "source": [
        "# Imports"
      ]
    },
    {
      "cell_type": "code",
      "metadata": {
        "id": "fM_oE2_k8Ppz"
      },
      "source": [
        "import numpy as np\n",
        "import tensorflow as tf\n",
        "import tensorflow_datasets as tfds\n",
        "\n",
        "from tensorflow import keras\n",
        "\n",
        "from functools import partial\n",
        "\n",
        "import matplotlib.pyplot as plt"
      ],
      "execution_count": 1,
      "outputs": []
    },
    {
      "cell_type": "markdown",
      "metadata": {
        "id": "yHiByzD4BrUY"
      },
      "source": [
        "# Introduction"
      ]
    },
    {
      "cell_type": "markdown",
      "metadata": {
        "id": "MkncNwUGrhU_"
      },
      "source": [
        "## Gradient Vanishing\n",
        "\n",
        "In  early ages of deep learning, neural network layers' weights were initialised using a normal distribution with a mean μ = 0 and a standard deviation σ = 1.  \n",
        "This, along with using `sigmoid`  as an activaation function ($sigmoid(z) = \\frac{1}{1 + e^{-z}}$), caused deep neural networks to suffer from what we call **gradient vanishing**.\n",
        "\n",
        "Gradient vanishing is when gradients get smaller and smaller as the gradient descent algorithm propagates down to the lower layers leaving the weights of those layers practically unchanged.\n",
        "\n",
        "Run the below to see how `sigmoid` activation function looks like. Code taken from [Hands-On Machine Learning with Scikit-Learn, Keras & TensorFlow - Chapter 11](https://github.com/ageron/handson-ml2/blob/master/11_training_deep_neural_networks.ipynb) by Aurélien Geron"
      ]
    },
    {
      "cell_type": "code",
      "metadata": {
        "colab": {
          "base_uri": "https://localhost:8080/",
          "height": 282
        },
        "cellView": "form",
        "id": "8vflZPEABW5E",
        "outputId": "93f7bee3-1fde-4a93-eff4-28f7287ed104"
      },
      "source": [
        "#@title Sigmoid Activation Function \n",
        "z = np.linspace(-5, 5, 200)\n",
        "\n",
        "plt.plot([-5, 5], [0, 0], 'k-')\n",
        "plt.plot([-5, 5], [1, 1], 'k--')\n",
        "plt.plot([0, 0], [-0.2, 1.2], 'k-')\n",
        "plt.plot([-5, 5], [-3/4, 7/4], 'g--')\n",
        "plt.plot(z, 1 / (1 + np.exp(-z)), \"b-\", linewidth=2)\n",
        "props = dict(facecolor='black', shrink=0.1)\n",
        "plt.annotate('Saturating', xytext=(3.5, 0.7), xy=(5, 1), arrowprops=props, fontsize=14, ha=\"center\")\n",
        "plt.annotate('Saturating', xytext=(-3.5, 0.3), xy=(-5, 0), arrowprops=props, fontsize=14, ha=\"center\")\n",
        "plt.annotate('Linear', xytext=(2, 0.2), xy=(0, 0.5), arrowprops=props, fontsize=14, ha=\"center\")\n",
        "plt.grid(True)\n",
        "plt.title(\"Sigmoid activation function\", fontsize=14)\n",
        "plt.axis([-5, 5, -0.2, 1.2])\n",
        "\n",
        "plt.show()"
      ],
      "execution_count": 2,
      "outputs": [
        {
          "output_type": "display_data",
          "data": {
            "image/png": "[encoded data removed]",
            "text/plain": [
              "<Figure size 432x288 with 1 Axes>"
            ]
          },
          "metadata": {
            "needs_background": "light"
          }
        }
      ]
    },
    {
      "cell_type": "markdown",
      "source": [
        "## Glorot & Bengio Research"
      ],
      "metadata": {
        "id": "bBDzhtPmg2YL"
      }
    },
    {
      "cell_type": "markdown",
      "metadata": {
        "id": "0PfBmOhTEX4L"
      },
      "source": [
        "In 2010, Xavier Glorot and Yoshua Bengio pointed out in a paper entitled [Understanding the difficulty of training deep feedforward neural networks\n",
        "](http://proceedings.mlr.press/v9/glorot10a/glorot10a.pdf) that for a signal to propagate properly in both directions without vanishing or exploding, we need to have the variance of the outputs of each layer to be equal to the variance of the input and for the gradients to have equal variance before and after each layer.\n",
        "\n",
        "Since this cannot be guarranteed unless each layer has an equal number of inputs $fan_{in}$ and neurons $fan_{out}$, Glorot and Bengio proposed instead to initialise weights randomly using the following:\n",
        "\n",
        "\n",
        "*   Mean μ = 0\n",
        "*   Variance $ σ^2 = \\frac{1}{fan_{avg}} = \\frac{1}{\\frac{fan_{in} + fan_{out}}{2}} = \\frac{2}{fan_{in} + fan_{out}}$\n"
      ]
    },
    {
      "cell_type": "markdown",
      "source": [
        "## Nair & Hinton \n",
        "\n",
        "In 2010 as well Vinod Nair & Geoffrey Hinton proposed a new non-saturating activation function $ReLU(z) = max(0, z)$ that will become the widely used activation function.\n",
        "\n",
        "ReLU (Rectified Linear Unit) is equal to the input when the input is positive and zero otherwise.\n",
        "\n",
        "Having this non-saturating activation function will remove the constraint that we had with sigmoid where for large input values, the gradient is 0. In the case of ReLU, the gradient is always 1 for any positive input."
      ],
      "metadata": {
        "id": "HHfRvSZmR3l6"
      }
    },
    {
      "cell_type": "code",
      "source": [
        "#@title ReLU Activation Function\n",
        "z = np.linspace(-5, 5, 200)\n",
        "\n",
        "plt.plot(z, np.maximum(0, z), \"b-\", linewidth=2)\n",
        "plt.plot([-5, 5], [0, 0], 'k-')\n",
        "plt.plot([0, 0], [-0.5, 4.2], 'k-')\n",
        "plt.grid(True)\n",
        "props = dict(facecolor='black', shrink=0.1)\n",
        "plt.title(\"ReLU activation function\", fontsize=14)\n",
        "plt.axis([-5, 5, -0.5, 4.2])\n",
        "\n",
        "plt.show()"
      ],
      "metadata": {
        "colab": {
          "base_uri": "https://localhost:8080/",
          "height": 282
        },
        "cellView": "form",
        "id": "9OgI9ziBdhrz",
        "outputId": "bf5e59fa-4173-4ae6-a5ca-6cc9ca235942"
      },
      "execution_count": 3,
      "outputs": [
        {
          "output_type": "display_data",
          "data": {
            "image/png": "[encoded data removed]",
            "text/plain": [
              "<Figure size 432x288 with 1 Axes>"
            ]
          },
          "metadata": {
            "needs_background": "light"
          }
        }
      ]
    },
    {
      "cell_type": "markdown",
      "source": [
        "Let's now try to visualise the improvement that Glorot kernel initialisation along with ReLU activation function do.\n",
        "\n",
        "We will use the MNIST dataset."
      ],
      "metadata": {
        "id": "UcROCZ8RhDDm"
      }
    },
    {
      "cell_type": "markdown",
      "source": [
        "# Configuration"
      ],
      "metadata": {
        "id": "HjH8YSWXeE9z"
      }
    },
    {
      "cell_type": "code",
      "source": [
        "#@title Parameters\n",
        "BATCH_SIZE =  128 #@param {type:\"slider\", min:32, max:1024, step:32}\n",
        "EPOCHS = 30 #@param {type:\"integer\"}\n",
        "SEED = 1337 #@param {type:\"integer\"}\n",
        "\n",
        "np.random.seed(SEED)\n",
        "tf.random.set_seed(SEED)"
      ],
      "metadata": {
        "cellView": "form",
        "id": "xmOEU_1I_6kw"
      },
      "execution_count": 4,
      "outputs": []
    },
    {
      "cell_type": "markdown",
      "metadata": {
        "id": "xqR1GQPQkXXo"
      },
      "source": [
        "# Data\n",
        "\n",
        "We will use the MNIST dataset which is a collection of grayscale images of size 28x28 for digits from 0 to 9."
      ]
    },
    {
      "cell_type": "markdown",
      "metadata": {
        "id": "HmngG75irKDM"
      },
      "source": [
        "## Loading"
      ]
    },
    {
      "cell_type": "code",
      "metadata": {
        "colab": {
          "base_uri": "https://localhost:8080/",
          "height": 208,
          "referenced_widgets": [
            "86d06be2594343ef99606ed548099685",
            "df94d24d24594590936b2e508742219e",
            "589385c3970c4771b0b78cef7ea3f317",
            "8aa8e53da5954ffca2b72c188d3aeb2f",
            "0a37ed5b331a4c7287659fd79d261093",
            "993db2b6d23a41abab414c2883cf2f6e",
            "d633e34bc7944c09a8a1ed2960f51fa5",
            "e05b6a6fcfb040a0a137ddf016514b28",
            "7578cc4c6d2042bebd9aff480540831a",
            "f8905e9181f441bd8db2f45c2cc389b7",
            "3f3b2d978a884a71bc06eacaa3eaeac4"
          ]
        },
        "id": "405QZOoIlFJE",
        "outputId": "efe93131-7095-4a44-c118-bed797affec8"
      },
      "source": [
        "(train_ds, valid_ds), info = tfds.load('mnist',\n",
        "                                       split=['train', 'test'], \n",
        "                                       shuffle_files=True,\n",
        "                                       with_info=True,\n",
        "                                       as_supervised=True\n",
        "                                       )"
      ],
      "execution_count": 5,
      "outputs": [
        {
          "output_type": "stream",
          "name": "stdout",
          "text": [
            "\u001b[1mDownloading and preparing dataset mnist/3.0.1 (download: 11.06 MiB, generated: 21.00 MiB, total: 32.06 MiB) to /root/tensorflow_datasets/mnist/3.0.1...\u001b[0m\n"
          ]
        },
        {
          "output_type": "stream",
          "name": "stderr",
          "text": [
            "WARNING:absl:Dataset mnist is hosted on GCS. It will automatically be downloaded to your\n",
            "local data directory. If you'd instead prefer to read directly from our public\n",
            "GCS bucket (recommended if you're running on GCP), you can instead pass\n",
            "`try_gcs=True` to `tfds.load` or set `data_dir=gs://tfds-data/datasets`.\n",
            "\n"
          ]
        },
        {
          "output_type": "display_data",
          "data": {
            "application/vnd.jupyter.widget-view+json": {
              "model_id": "86d06be2594343ef99606ed548099685",
              "version_minor": 0,
              "version_major": 2
            },
            "text/plain": [
              "Dl Completed...:   0%|          | 0/4 [00:00<?, ? file/s]"
            ]
          },
          "metadata": {}
        },
        {
          "output_type": "stream",
          "name": "stdout",
          "text": [
            "\n",
            "\u001b[1mDataset mnist downloaded and prepared to /root/tensorflow_datasets/mnist/3.0.1. Subsequent calls will reuse this data.\u001b[0m\n"
          ]
        }
      ]
    },
    {
      "cell_type": "markdown",
      "source": [
        "## Datase Info"
      ],
      "metadata": {
        "id": "47lT_O_Osnro"
      }
    },
    {
      "cell_type": "code",
      "source": [
        "print(info)"
      ],
      "metadata": {
        "colab": {
          "base_uri": "https://localhost:8080/"
        },
        "id": "sfBaZ2rqshze",
        "outputId": "ec1d7c2b-8009-4a77-aa82-f348eb8103ab"
      },
      "execution_count": 6,
      "outputs": [
        {
          "output_type": "stream",
          "name": "stdout",
          "text": [
            "tfds.core.DatasetInfo(\n",
            "    name='mnist',\n",
            "    version=3.0.1,\n",
            "    description='The MNIST database of handwritten digits.',\n",
            "    homepage='http://yann.lecun.com/exdb/mnist/',\n",
            "    features=FeaturesDict({\n",
            "        'image': Image(shape=(28, 28, 1), dtype=tf.uint8),\n",
            "        'label': ClassLabel(shape=(), dtype=tf.int64, num_classes=10),\n",
            "    }),\n",
            "    total_num_examples=70000,\n",
            "    splits={\n",
            "        'test': 10000,\n",
            "        'train': 60000,\n",
            "    },\n",
            "    supervised_keys=('image', 'label'),\n",
            "    citation=\"\"\"@article{lecun2010mnist,\n",
            "      title={MNIST handwritten digit database},\n",
            "      author={LeCun, Yann and Cortes, Corinna and Burges, CJ},\n",
            "      journal={ATT Labs [Online]. Available: http://yann.lecun.com/exdb/mnist},\n",
            "      volume={2},\n",
            "      year={2010}\n",
            "    }\"\"\",\n",
            "    redistribution_info=,\n",
            ")\n",
            "\n"
          ]
        }
      ]
    },
    {
      "cell_type": "markdown",
      "source": [
        "The dataset contains 70,000 samples (60,000 for training and 10,000 for validation)\n",
        "\n",
        "Each sample is a grayscale image of dimension 28x28 hence an input feature of shape (28, 28, 1)\n",
        "\n",
        "Let's display some samples and then move to data preprocessing"
      ],
      "metadata": {
        "id": "J8ro5zGEsuU9"
      }
    },
    {
      "cell_type": "markdown",
      "source": [
        "## Samples Display"
      ],
      "metadata": {
        "id": "PItukNTEsWax"
      }
    },
    {
      "cell_type": "markdown",
      "metadata": {
        "id": "62aD-4fzqBuW"
      },
      "source": [
        "Let's display some dataset samples.\n",
        "With tensorflow_datasets, this is as simple as calling `show_examples`"
      ]
    },
    {
      "cell_type": "code",
      "metadata": {
        "colab": {
          "base_uri": "https://localhost:8080/",
          "height": 1000
        },
        "id": "yG2RjNRjsyht",
        "outputId": "cf598f6f-a67b-4255-e595-feb098d4c486"
      },
      "source": [
        "tfds.show_examples(train_ds, info)"
      ],
      "execution_count": 7,
      "outputs": [
        {
          "output_type": "display_data",
          "data": {
            "image/png": "[encoded data removed]",
            "text/plain": [
              "<Figure size 648x648 with 9 Axes>"
            ]
          },
          "metadata": {}
        },
        {
          "output_type": "execute_result",
          "data": {
            "image/png": "[encoded data removed]",
            "text/plain": [
              "<Figure size 648x648 with 9 Axes>"
            ]
          },
          "metadata": {},
          "execution_count": 7
        }
      ]
    },
    {
      "cell_type": "markdown",
      "metadata": {
        "id": "Rew48fD9q-Te"
      },
      "source": [
        "## Preprocessing"
      ]
    },
    {
      "cell_type": "code",
      "metadata": {
        "id": "yFG6zlyXuUSj"
      },
      "source": [
        "def normalise_image(image, label):\n",
        "    return tf.cast(image, tf.float32) / 255., label\n",
        "\n",
        "def preprocess_ds(ds, batchsize = 64):\n",
        "    # Normalise input features dividing them by 255. since the images are grayscale \n",
        "    ds = ds.map(normalise_image, num_parallel_calls=tf.data.AUTOTUNE)\n",
        "\n",
        "    # Cache features for faster retrieval\n",
        "    ds = ds.cache()\n",
        "\n",
        "    # Create batches\n",
        "    ds = ds.batch(batchsize)\n",
        "    \n",
        "    # Call prefetch which allows subsequent elements to be prepared while the current\n",
        "    # elements are being processed\n",
        "    ds = ds.prefetch(tf.data.AUTOTUNE)\n",
        "\n",
        "    return ds"
      ],
      "execution_count": 8,
      "outputs": []
    },
    {
      "cell_type": "code",
      "metadata": {
        "id": "EXXVAPvTvCI9"
      },
      "source": [
        "train_ds = preprocess_ds(train_ds, BATCH_SIZE)\n",
        "valid_ds = preprocess_ds(valid_ds, BATCH_SIZE)"
      ],
      "execution_count": 9,
      "outputs": []
    },
    {
      "cell_type": "markdown",
      "source": [
        "#Model\n",
        "\n",
        "In order to be able to visualise gradients, we will use low-level training loops instead of high-level model.fit\n",
        "\n",
        "Let's start by creating a deep neural network"
      ],
      "metadata": {
        "id": "UR6M5TXFUzTv"
      }
    },
    {
      "cell_type": "markdown",
      "source": [
        "## Model Definition"
      ],
      "metadata": {
        "id": "-wB4DYK00miR"
      }
    },
    {
      "cell_type": "code",
      "source": [
        "# This is a function that we will later call to create a model using Keras' Functional API\n",
        "# It takes 2 arguments:\n",
        "# - The hidden layer that we will be used with the following predefined parameters:\n",
        "#   * kernel_initializer\n",
        "#   * activation\n",
        "# - A list containing the units of the hidden dense layers.\n",
        "#   The number of elements in the list is the number of hidden layers\n",
        "\n",
        "def build_model(hidden_dense_func, hidden_layers_units):\n",
        "    inputs = keras.layers.Input(shape=(28, 28, 1), name='input')\n",
        "\n",
        "    # Transform inputs from (?, 28, 28, 1) to (?, 784)\n",
        "    x = keras.layers.Flatten(name='flatten')(inputs)\n",
        "\n",
        "    # This is a list of hidden layers units. Example [512, 256, 128]\n",
        "    for i, unit in enumerate(hidden_layers_units):\n",
        "        x = hidden_dense_func(unit, name='dense_' + str(i+1))(x)\n",
        "    \n",
        "    outputs = keras.layers.Dense(10, activation=\"softmax\",\n",
        "                                 kernel_initializer=keras.initializers.GlorotNormal(seed=SEED),\n",
        "                                 name='output')(x)\n",
        "\n",
        "    return keras.Model(inputs, outputs)"
      ],
      "metadata": {
        "id": "UAguWHBBya7z"
      },
      "execution_count": 10,
      "outputs": []
    },
    {
      "cell_type": "markdown",
      "source": [
        "## Optimiser, loss & metrics"
      ],
      "metadata": {
        "id": "sgGrBi4G0uco"
      }
    },
    {
      "cell_type": "code",
      "source": [
        "# Instantiate an optimizer.\n",
        "optimizer = keras.optimizers.SGD(learning_rate=7e-4)\n",
        "\n",
        "# Instantiate a loss function.\n",
        "loss_fn = keras.losses.SparseCategoricalCrossentropy()\n",
        "\n",
        "# Instantiate a training accuracy metric\n",
        "train_acc_metric = keras.metrics.SparseCategoricalAccuracy()\n",
        "\n",
        "# Instantiate a validation accuracy metric\n",
        "valid_acc_metric = keras.metrics.SparseCategoricalAccuracy()"
      ],
      "metadata": {
        "id": "e_if---80w9f"
      },
      "execution_count": 11,
      "outputs": []
    },
    {
      "cell_type": "markdown",
      "source": [
        "## Training Functions"
      ],
      "metadata": {
        "id": "leIbah571PVB"
      }
    },
    {
      "cell_type": "markdown",
      "source": [
        "The below function will be called once in each epoch (at the first batch) and will append the gradients to a gradients history list"
      ],
      "metadata": {
        "id": "-q23HQTJ2H5r"
      }
    },
    {
      "cell_type": "code",
      "source": [
        "def record_epoch_gradients(grads, trainable_vars, grads_history):\n",
        "    # Record the gradients with regard to all trainable variables\n",
        "    # This is saved into a dictionary where the key is the variable name.\n",
        "    # epoch_grads = {\n",
        "    #       'dense_1': gradient_tensor,\n",
        "    #       'dense_2': gradient_tensor,\n",
        "    #           .\n",
        "    #           .\n",
        "    #       'dense_n': gradient_tensor\n",
        "    # }\n",
        "    epoch_grads = {}\n",
        "\n",
        "    for grad, var in zip(grads, trainable_vars):\n",
        "        # First condition in order not to take the bias\n",
        "        # Second condition in order not to take the output\n",
        "        # which is not sigmoid but a softmax\n",
        "        if '/kernel' not in var.name or 'output' in var.name:\n",
        "            continue\n",
        "        name = var.name.split('/')[0]\n",
        "        epoch_grads[name] = grad\n",
        "    \n",
        "    # Append it to the list of gradients' history\n",
        "    grads_history.append(epoch_grads)\n",
        "    \n",
        "    return grads_history"
      ],
      "metadata": {
        "id": "9KPumQSrgba3"
      },
      "execution_count": 12,
      "outputs": []
    },
    {
      "cell_type": "markdown",
      "source": [
        "Below are the training and validation (or test) steps that will be called in the training loop"
      ],
      "metadata": {
        "id": "RKA4fiZR2W9U"
      }
    },
    {
      "cell_type": "code",
      "metadata": {
        "id": "JYdj03Me12Ko"
      },
      "source": [
        "@tf.function\n",
        "def train_step(X, y, model):\n",
        "    with tf.GradientTape() as tape:\n",
        "        # Forward pass\n",
        "        logits = model(X, training=True)\n",
        "        # Calculate the loss\n",
        "        loss_value = loss_fn(y, logits)\n",
        "    \n",
        "    # Calculate the gradient of the loss with respect to the trainable weights\n",
        "    grads = tape.gradient(loss_value, model.trainable_weights)\n",
        "\n",
        "    # Update weights\n",
        "    optimizer.apply_gradients(zip(grads, model.trainable_weights))\n",
        "\n",
        "    # Update metrics\n",
        "    train_acc_metric.update_state(y, logits)\n",
        "\n",
        "    return loss_value, grads\n",
        "\n",
        "@tf.function\n",
        "def test_step(X, y, model):\n",
        "    # Forward pass\n",
        "    val_logits = model(X, training=False)\n",
        "\n",
        "    # Calculate the loss\n",
        "    loss_value = loss_fn(y, val_logits)\n",
        "\n",
        "    # Update metrics\n",
        "    valid_acc_metric.update_state(y, val_logits)\n",
        "    \n",
        "    return loss_value"
      ],
      "execution_count": 13,
      "outputs": []
    },
    {
      "cell_type": "markdown",
      "source": [
        "This is the main function that will be called in order to create and train a model.  \n",
        "It will take the following arguments:\n",
        "\n",
        "\n",
        "*   The dense hidden layer wrapper\n",
        "*   A list of hidden layers units. The number of the list's items correspond to the number of the hidden layers.\n",
        "\n"
      ],
      "metadata": {
        "id": "akTkGUVc2mKF"
      }
    },
    {
      "cell_type": "code",
      "metadata": {
        "id": "OmMYetUs3DXo"
      },
      "source": [
        "def create_and_train_model(hidden_dense_func, hidden_layers_units):\n",
        "    # Clear session in case we are training multiple models \n",
        "    keras.backend.clear_session()\n",
        "\n",
        "    # Create the model\n",
        "    model = build_model(hidden_dense_func, hidden_layers_units)\n",
        "\n",
        "    # Initialise a dictionary to hold the training loss and metrics\n",
        "    history = {\n",
        "        'loss': [],\n",
        "        'acc': [],\n",
        "        'val_loss': [],\n",
        "        'val_acc': []\n",
        "    }\n",
        "\n",
        "    # Initialise a list that will be filled with the gradients\n",
        "    # Each item of this list contains a dictionary of all \n",
        "    # gradients with regard to all trainable variables\n",
        "    grads_history = []\n",
        "\n",
        "    for epoch in range(1, EPOCHS + 1):\n",
        "        # Get batch\n",
        "        for step, (X_batch_train, y_batch_train) in enumerate(train_ds):\n",
        "            # Run the training step and get the training loss and the gradients\n",
        "            train_loss, grads = train_step(X_batch_train, y_batch_train, model)\n",
        "\n",
        "            if step == 0:\n",
        "                # Record the gradients for this batch\n",
        "                grads_history = record_epoch_gradients(grads, model.trainable_variables, grads_history)\n",
        "\n",
        "        train_acc = train_acc_metric.result()\n",
        "        train_acc_metric.reset_states()\n",
        "\n",
        "        # Validation \n",
        "        for X_batch_valid, y_batch_valid in valid_ds:\n",
        "            valid_loss = test_step(X_batch_valid, y_batch_valid, model)\n",
        "        \n",
        "        valid_acc = valid_acc_metric.result()\n",
        "        valid_acc_metric.reset_states()\n",
        "\n",
        "        # Print training & validation loss and accuracy\n",
        "        print(f\"Epoch: {epoch}/{EPOCHS} ==> loss: {train_loss:.4f}, acc: {train_acc:.4f}, val_loss: {valid_loss:.4f}, val_acc: {valid_acc:.4f}\")\n",
        "        \n",
        "        # Update training and validation history\n",
        "        history['loss'].append(train_loss)\n",
        "        history['acc'].append(train_acc)\n",
        "        history['val_loss'].append(valid_loss)\n",
        "        history['val_acc'].append(valid_acc)\n",
        "    \n",
        "    return history, grads_history"
      ],
      "execution_count": 14,
      "outputs": []
    },
    {
      "cell_type": "markdown",
      "source": [
        "## Model Training"
      ],
      "metadata": {
        "id": "VhhkrqW1BL_W"
      }
    },
    {
      "cell_type": "markdown",
      "source": [
        "Since we will be creating deep models, let's simplify our task by using `partial` to create a wrapper for the `Dense` layer.\n",
        "This wrapper will have all the default arguments so that we won't need to rewrite them over and over.\n",
        "\n",
        "Those dense layers will be the hidden layers for our models"
      ],
      "metadata": {
        "id": "3tH7K5Y2BRRC"
      }
    },
    {
      "cell_type": "code",
      "metadata": {
        "id": "wMP-GzVikpBM"
      },
      "source": [
        "# - Hidden dense Layer weights initialised using Normal Distribution (mean = 0 & std = 1)\n",
        "# - Activation function 'sigmoid'\n",
        "NormalSigmoidDense = partial(\n",
        "    keras.layers.Dense,\n",
        "    kernel_initializer=keras.initializers.RandomNormal(mean=0.0, stddev=1., seed=SEED),\n",
        "    activation=\"sigmoid\"\n",
        ")\n",
        "\n",
        "# - Hidden dense Layer weights initialised using Glorot Normal\n",
        "# - Activation function 'relu'\n",
        "GlorotNormalReluDense = partial(\n",
        "    keras.layers.Dense,\n",
        "    kernel_initializer=keras.initializers.GlorotNormal(seed=SEED),\n",
        "    activation=\"relu\"\n",
        ")"
      ],
      "execution_count": 15,
      "outputs": []
    },
    {
      "cell_type": "code",
      "source": [
        "# Titles of 2 experiments that we will do especially used in plotting results\n",
        "titles = [\n",
        "    'Random Normal with Sigmoid',\n",
        "    'Glorot Normal with ReLU',\n",
        "]\n",
        "\n",
        "# A list that contains the partially-configured hidden layers to be used in each run\n",
        "hidden_dense_func_list = [\n",
        "    NormalSigmoidDense,\n",
        "    GlorotNormalReluDense,\n",
        "]\n",
        "\n",
        "# The hidden layers' units\n",
        "hidden_layers_units = [128, 64, 32]"
      ],
      "metadata": {
        "id": "PWU8Kzc2CjRR"
      },
      "execution_count": 17,
      "outputs": []
    },
    {
      "cell_type": "code",
      "source": [
        "# List to contain the loss and metrics\n",
        "history_results = []\n",
        "\n",
        "# List that will contain the gradients\n",
        "grads_results = []\n",
        "\n",
        "for title, hidden_dense_func in zip(titles, hidden_dense_func_list):\n",
        "    print(f\"\\nTraining model with {title} ...\")\n",
        "    print(\"================================================================\")\n",
        "\n",
        "    # Create and train the model\n",
        "    history, grads_history = create_and_train_model(\n",
        "        hidden_dense_func,\n",
        "        hidden_layers_units\n",
        "    )\n",
        "\n",
        "    # Save the training history and gradients \n",
        "    history_results.append(history)\n",
        "    grads_results.append(grads_history)"
      ],
      "metadata": {
        "colab": {
          "base_uri": "https://localhost:8080/"
        },
        "id": "QFDq91cNCufR",
        "outputId": "b350d8e6-2402-4c97-bd83-7cae4ecae905"
      },
      "execution_count": 18,
      "outputs": [
        {
          "output_type": "stream",
          "name": "stdout",
          "text": [
            "\n",
            "Training model with Random Normal with Sigmoid ...\n",
            "================================================================\n",
            "Epoch: 1/30 ==> loss: 2.5040, acc: 0.0654, val_loss: 2.4828, val_acc: 0.0669\n",
            "Epoch: 2/30 ==> loss: 2.4094, acc: 0.0699, val_loss: 2.4306, val_acc: 0.0712\n",
            "Epoch: 3/30 ==> loss: 2.3543, acc: 0.0754, val_loss: 2.4050, val_acc: 0.0765\n",
            "Epoch: 4/30 ==> loss: 2.3190, acc: 0.0802, val_loss: 2.3900, val_acc: 0.0806\n",
            "Epoch: 5/30 ==> loss: 2.2947, acc: 0.0837, val_loss: 2.3796, val_acc: 0.0849\n",
            "Epoch: 6/30 ==> loss: 2.2766, acc: 0.0896, val_loss: 2.3711, val_acc: 0.0919\n",
            "Epoch: 7/30 ==> loss: 2.2621, acc: 0.0979, val_loss: 2.3630, val_acc: 0.1011\n",
            "Epoch: 8/30 ==> loss: 2.2496, acc: 0.1065, val_loss: 2.3550, val_acc: 0.1092\n",
            "Epoch: 9/30 ==> loss: 2.2382, acc: 0.1137, val_loss: 2.3468, val_acc: 0.1166\n",
            "Epoch: 10/30 ==> loss: 2.2276, acc: 0.1206, val_loss: 2.3386, val_acc: 0.1236\n",
            "Epoch: 11/30 ==> loss: 2.2175, acc: 0.1281, val_loss: 2.3302, val_acc: 0.1296\n",
            "Epoch: 12/30 ==> loss: 2.2077, acc: 0.1364, val_loss: 2.3218, val_acc: 0.1353\n",
            "Epoch: 13/30 ==> loss: 2.1982, acc: 0.1441, val_loss: 2.3134, val_acc: 0.1422\n",
            "Epoch: 14/30 ==> loss: 2.1888, acc: 0.1520, val_loss: 2.3050, val_acc: 0.1497\n",
            "Epoch: 15/30 ==> loss: 2.1796, acc: 0.1599, val_loss: 2.2967, val_acc: 0.1579\n",
            "Epoch: 16/30 ==> loss: 2.1705, acc: 0.1671, val_loss: 2.2884, val_acc: 0.1669\n",
            "Epoch: 17/30 ==> loss: 2.1615, acc: 0.1755, val_loss: 2.2801, val_acc: 0.1755\n",
            "Epoch: 18/30 ==> loss: 2.1526, acc: 0.1835, val_loss: 2.2719, val_acc: 0.1833\n",
            "Epoch: 19/30 ==> loss: 2.1438, acc: 0.1914, val_loss: 2.2638, val_acc: 0.1924\n",
            "Epoch: 20/30 ==> loss: 2.1351, acc: 0.1993, val_loss: 2.2557, val_acc: 0.2007\n",
            "Epoch: 21/30 ==> loss: 2.1264, acc: 0.2071, val_loss: 2.2476, val_acc: 0.2088\n",
            "Epoch: 22/30 ==> loss: 2.1178, acc: 0.2149, val_loss: 2.2396, val_acc: 0.2180\n",
            "Epoch: 23/30 ==> loss: 2.1093, acc: 0.2224, val_loss: 2.2316, val_acc: 0.2244\n",
            "Epoch: 24/30 ==> loss: 2.1008, acc: 0.2298, val_loss: 2.2237, val_acc: 0.2302\n",
            "Epoch: 25/30 ==> loss: 2.0923, acc: 0.2375, val_loss: 2.2158, val_acc: 0.2382\n",
            "Epoch: 26/30 ==> loss: 2.0839, acc: 0.2450, val_loss: 2.2080, val_acc: 0.2470\n",
            "Epoch: 27/30 ==> loss: 2.0755, acc: 0.2514, val_loss: 2.2002, val_acc: 0.2548\n",
            "Epoch: 28/30 ==> loss: 2.0672, acc: 0.2579, val_loss: 2.1923, val_acc: 0.2621\n",
            "Epoch: 29/30 ==> loss: 2.0589, acc: 0.2648, val_loss: 2.1846, val_acc: 0.2697\n",
            "Epoch: 30/30 ==> loss: 2.0506, acc: 0.2712, val_loss: 2.1768, val_acc: 0.2772\n",
            "\n",
            "Training model with Glorot Normal with ReLU ...\n",
            "================================================================\n",
            "Epoch: 1/30 ==> loss: 2.1898, acc: 0.1022, val_loss: 2.2221, val_acc: 0.1620\n",
            "Epoch: 2/30 ==> loss: 2.0795, acc: 0.2407, val_loss: 2.1264, val_acc: 0.3227\n",
            "Epoch: 3/30 ==> loss: 1.9483, acc: 0.3971, val_loss: 2.0023, val_acc: 0.4617\n",
            "Epoch: 4/30 ==> loss: 1.7813, acc: 0.5181, val_loss: 1.8579, val_acc: 0.5551\n",
            "Epoch: 5/30 ==> loss: 1.5868, acc: 0.5976, val_loss: 1.6915, val_acc: 0.6149\n",
            "Epoch: 6/30 ==> loss: 1.3832, acc: 0.6445, val_loss: 1.5170, val_acc: 0.6535\n",
            "Epoch: 7/30 ==> loss: 1.1951, acc: 0.6794, val_loss: 1.3546, val_acc: 0.6936\n",
            "Epoch: 8/30 ==> loss: 1.0367, acc: 0.7128, val_loss: 1.2122, val_acc: 0.7283\n",
            "Epoch: 9/30 ==> loss: 0.9069, acc: 0.7397, val_loss: 1.0850, val_acc: 0.7568\n",
            "Epoch: 10/30 ==> loss: 0.8025, acc: 0.7642, val_loss: 0.9761, val_acc: 0.7793\n",
            "Epoch: 11/30 ==> loss: 0.7204, acc: 0.7836, val_loss: 0.8845, val_acc: 0.7972\n",
            "Epoch: 12/30 ==> loss: 0.6534, acc: 0.7992, val_loss: 0.8070, val_acc: 0.8080\n",
            "Epoch: 13/30 ==> loss: 0.5977, acc: 0.8124, val_loss: 0.7428, val_acc: 0.8210\n",
            "Epoch: 14/30 ==> loss: 0.5516, acc: 0.8230, val_loss: 0.6883, val_acc: 0.8306\n",
            "Epoch: 15/30 ==> loss: 0.5127, acc: 0.8328, val_loss: 0.6434, val_acc: 0.8386\n",
            "Epoch: 16/30 ==> loss: 0.4796, acc: 0.8399, val_loss: 0.6060, val_acc: 0.8458\n",
            "Epoch: 17/30 ==> loss: 0.4509, acc: 0.8462, val_loss: 0.5748, val_acc: 0.8528\n",
            "Epoch: 18/30 ==> loss: 0.4257, acc: 0.8528, val_loss: 0.5486, val_acc: 0.8581\n",
            "Epoch: 19/30 ==> loss: 0.4036, acc: 0.8578, val_loss: 0.5271, val_acc: 0.8638\n",
            "Epoch: 20/30 ==> loss: 0.3843, acc: 0.8631, val_loss: 0.5091, val_acc: 0.8688\n",
            "Epoch: 21/30 ==> loss: 0.3671, acc: 0.8671, val_loss: 0.4939, val_acc: 0.8730\n",
            "Epoch: 22/30 ==> loss: 0.3519, acc: 0.8705, val_loss: 0.4805, val_acc: 0.8763\n",
            "Epoch: 23/30 ==> loss: 0.3382, acc: 0.8738, val_loss: 0.4682, val_acc: 0.8798\n",
            "Epoch: 24/30 ==> loss: 0.3260, acc: 0.8768, val_loss: 0.4573, val_acc: 0.8828\n",
            "Epoch: 25/30 ==> loss: 0.3151, acc: 0.8796, val_loss: 0.4477, val_acc: 0.8852\n",
            "Epoch: 26/30 ==> loss: 0.3052, acc: 0.8818, val_loss: 0.4391, val_acc: 0.8864\n",
            "Epoch: 27/30 ==> loss: 0.2962, acc: 0.8843, val_loss: 0.4315, val_acc: 0.8886\n",
            "Epoch: 28/30 ==> loss: 0.2879, acc: 0.8867, val_loss: 0.4247, val_acc: 0.8904\n",
            "Epoch: 29/30 ==> loss: 0.2804, acc: 0.8888, val_loss: 0.4186, val_acc: 0.8924\n",
            "Epoch: 30/30 ==> loss: 0.2735, acc: 0.8904, val_loss: 0.4131, val_acc: 0.8937\n"
          ]
        }
      ]
    },
    {
      "cell_type": "markdown",
      "source": [
        "## Results"
      ],
      "metadata": {
        "id": "9f0iQ61VNg6h"
      }
    },
    {
      "cell_type": "markdown",
      "source": [
        "### Loss and Accuracy Plot\n",
        "\n",
        "Let's first plot the loss and accuracy for both training and validation data."
      ],
      "metadata": {
        "id": "1W9r0JLcj2bA"
      }
    },
    {
      "cell_type": "code",
      "source": [
        "fig, axs = plt.subplots(2, 2, figsize=(12, 10))\n",
        "\n",
        "for i, _ in enumerate(titles):\n",
        "    axs[0,0].plot(history_results[i]['loss'])\n",
        "    axs[0,1].plot(history_results[i]['val_loss'])\n",
        "    axs[1,0].plot(history_results[i]['acc'])\n",
        "    axs[1,1].plot(history_results[i]['val_acc'])\n",
        "\n",
        "axs[0,0].set_title('Training Loss')\n",
        "axs[0,0].set_ylabel('Loss')\n",
        "axs[0,0].set_xlabel('Epoch')\n",
        "axs[0,0].legend(titles, loc='best')\n",
        "axs[0,0].grid()\n",
        "\n",
        "axs[0,1].set_title('Validation Loss')\n",
        "axs[0,1].set_ylabel('Loss')\n",
        "axs[0,1].set_xlabel('Epoch')\n",
        "axs[0,1].legend(titles, loc='best')\n",
        "axs[0,1].grid()\n",
        "\n",
        "axs[1,0].set_title('Training Accuracy')\n",
        "axs[1,0].set_ylabel('Accuracy')\n",
        "axs[1,0].set_xlabel('Epoch')\n",
        "axs[1,0].legend(titles, loc='best')\n",
        "axs[1,0].grid()\n",
        "\n",
        "axs[1,1].set_title('Validation Accuracy')\n",
        "axs[1,1].set_ylabel('Accuracy')\n",
        "axs[1,1].set_xlabel('Epoch')\n",
        "axs[1,1].legend(titles, loc='best')\n",
        "axs[1,1].grid()\n",
        "\n",
        "plt.show()"
      ],
      "metadata": {
        "colab": {
          "base_uri": "https://localhost:8080/",
          "height": 621
        },
        "id": "uHqPw6k4NkIl",
        "outputId": "f7d61ce5-1e07-4cd3-be37-b1e8f877c813"
      },
      "execution_count": 19,
      "outputs": [
        {
          "output_type": "display_data",
          "data": {
            "image/png": "[encoded data removed]",
            "text/plain": [
              "<Figure size 864x720 with 4 Axes>"
            ]
          },
          "metadata": {
            "needs_background": "light"
          }
        }
      ]
    },
    {
      "cell_type": "markdown",
      "source": [
        "We obviously see that the randomly initialised model with 1 as standard deviation and sigmoid as activation function does not converge"
      ],
      "metadata": {
        "id": "4sV25CVyZ0_w"
      }
    },
    {
      "cell_type": "markdown",
      "source": [
        "### Gradients Plot\n",
        "\n",
        "Let's now plot the gradients"
      ],
      "metadata": {
        "id": "NE24lSQnhaw4"
      }
    },
    {
      "cell_type": "code",
      "source": [
        "fig, axs = plt.subplots(2, 2, sharex=False, sharey=False, figsize=(16, 12))\n",
        "\n",
        "for i, title in enumerate(titles):\n",
        "    axs[0, i].set_title(f\"Gradients' Mean ({titles[i]})\")\n",
        "    for key in grads_results[i][0]:\n",
        "        axs[0,i].plot(range(len(grads_results[i])), [tf.reduce_mean(g[key]) for g in grads_results[i]], label=key)\n",
        "    axs[0,i].legend()\n",
        "    axs[0,i].grid()\n",
        "\n",
        "    axs[1, i].plot(history_results[i]['loss'])\n",
        "    axs[1, i].set_title(f\"Training Loss ({titles[i]})\")\n",
        "    axs[1, i].grid()\n",
        "\n",
        "\n",
        "plt.show()"
      ],
      "metadata": {
        "colab": {
          "base_uri": "https://localhost:8080/",
          "height": 643
        },
        "id": "d5G8pdKgb3tM",
        "outputId": "aa56e904-5d72-4a67-dbc9-443d8c0fbd1b"
      },
      "execution_count": 20,
      "outputs": [
        {
          "output_type": "display_data",
          "data": {
            "image/png": "[encoded data removed]",
            "text/plain": [
              "<Figure size 1152x864 with 4 Axes>"
            ]
          },
          "metadata": {
            "needs_background": "light"
          }
        }
      ]
    },
    {
      "cell_type": "markdown",
      "source": [
        "In the case of Random Normal with sigmoid activation function, we notice the following:\n",
        "\n",
        "\n",
        "*   The last hidden layer `dense_3` is the only one with significant gradient\n",
        "*   The other layers have gradients that are almost zero which proves that the gradient is vanishing when we go down towards the first layers.\n",
        "\n",
        "In the case of Glorot initialisation with ReLU, we find that the gradients are not vanishing. All gradients are tending to zero when the loss is not changing much.\n",
        "\n"
      ],
      "metadata": {
        "id": "0YlIVZ3NhjPN"
      }
    },
    {
      "cell_type": "markdown",
      "source": [
        "# Summary\n",
        "\n",
        "So to summarise, in this notebook, we learnt:\n",
        "\n",
        "\n",
        "*   how initialisation has changed over the years\n",
        "*   how activation functions has a strong impact on convergence and on reducing gradients vanishing\n",
        "*   how to train a Keras model using low level training loop\n",
        "\n",
        "In the next notebook, we will talk more about initialisation in Keras and will look at more activation functions.\n",
        "\n"
      ],
      "metadata": {
        "id": "tptOPjnhOfBP"
      }
    },
    {
      "cell_type": "markdown",
      "source": [
        "# References\n",
        "\n",
        "This notebook has been influenced and has used code found in:\n",
        "\n",
        "\n",
        "*   [Hands-On Machine Learning with Scikit-Learn, Keras & TensorFlow - Chapter 11](https://github.com/ageron/handson-ml2/blob/master/11_training_deep_neural_networks.ipynb) by [Aurélien Geron](https://twitter.com/aureliengeron)\n",
        "*   [Writing a training loop from scratch](https://keras.io/guides/writing_a_training_loop_from_scratch/) by [François Chollet](https://twitter.com/fchollet)\n",
        "*   [Visualizing the vanishing gradient problem](https://machinelearningmastery.com/visualizing-the-vanishing-gradient-problem/) by [Adrian Tam](https://machinelearningmastery.com/author/adriantam/)\n",
        "\n"
      ],
      "metadata": {
        "id": "UkOVU6_VSN5I"
      }
    }
  ]
}